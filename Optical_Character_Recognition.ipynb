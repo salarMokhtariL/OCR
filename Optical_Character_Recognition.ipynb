{
  "nbformat": 4,
  "nbformat_minor": 0,
  "metadata": {
    "colab": {
      "name": "Optical Character Recognition.ipynb",
      "provenance": [],
      "authorship_tag": "ABX9TyNhTV8ovyaUTX94YDfoSuSg",
      "include_colab_link": true
    },
    "kernelspec": {
      "name": "python3",
      "display_name": "Python 3"
    },
    "language_info": {
      "name": "python"
    }
  },
  "cells": [
    {
      "cell_type": "markdown",
      "metadata": {
        "id": "view-in-github",
        "colab_type": "text"
      },
      "source": [
        "<a href=\"https://colab.research.google.com/github/salarMokhtariL/OCR/blob/main/Optical_Character_Recognition.ipynb\" target=\"_parent\"><img src=\"https://colab.research.google.com/assets/colab-badge.svg\" alt=\"Open In Colab\"/></a>"
      ]
    },
    {
      "cell_type": "markdown",
      "source": [
        "# Optical Character Recognition\n",
        "\n",
        "### By Salar mokhtari Laleh\n",
        "\n",
        "#### salarmokhtari0@gmail.com"
      ],
      "metadata": {
        "id": "LXId0qxhIzp-"
      }
    },
    {
      "cell_type": "code",
      "source": [
        "# Install and Import Dependecies\n",
        "\n"
      ],
      "metadata": {
        "id": "h__9KpPTJHH1"
      },
      "execution_count": null,
      "outputs": []
    }
  ]
}